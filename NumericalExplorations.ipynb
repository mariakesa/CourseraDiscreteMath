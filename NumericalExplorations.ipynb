{
 "cells": [
  {
   "cell_type": "code",
   "execution_count": 8,
   "id": "b55ee22c",
   "metadata": {},
   "outputs": [],
   "source": [
    "import numpy as np\n",
    "import matplotlib.pyplot as plt"
   ]
  },
  {
   "cell_type": "code",
   "execution_count": 15,
   "id": "42e10971",
   "metadata": {},
   "outputs": [],
   "source": [
    "a=np.array([1,1])\n",
    "b=np.array([2,1])\n",
    "c=np.array([a[0]+0.5,a[1]-np.sin(60)])"
   ]
  },
  {
   "cell_type": "code",
   "execution_count": 16,
   "id": "bede7512",
   "metadata": {},
   "outputs": [
    {
     "name": "stdout",
     "output_type": "stream",
     "text": [
      "[[1.         1.        ]\n",
      " [2.         1.        ]\n",
      " [1.5        1.30481062]]\n",
      "-0.3048106211022167\n"
     ]
    }
   ],
   "source": [
    "A=np.stack((a,b,c))\n",
    "print(A)\n",
    "print(np.sin(60))"
   ]
  },
  {
   "cell_type": "code",
   "execution_count": 17,
   "id": "25006e61",
   "metadata": {
    "scrolled": true
   },
   "outputs": [
    {
     "data": {
      "text/plain": [
       "<matplotlib.collections.PathCollection at 0x7fcd02db8750>"
      ]
     },
     "execution_count": 17,
     "metadata": {},
     "output_type": "execute_result"
    },
    {
     "data": {
      "image/png": "[encoded data removed]",
      "text/plain": [
       "<Figure size 432x288 with 1 Axes>"
      ]
     },
     "metadata": {
      "needs_background": "light"
     },
     "output_type": "display_data"
    }
   ],
   "source": [
    "plt.scatter(A[:,0],A[:,1])"
   ]
  },
  {
   "cell_type": "code",
   "execution_count": 19,
   "id": "7a1ebf77",
   "metadata": {},
   "outputs": [],
   "source": [
    "def reflection(a,b):\n",
    "    new_a=2*b-a\n",
    "    return new_a"
   ]
  },
  {
   "cell_type": "code",
   "execution_count": 20,
   "id": "c2c4961c",
   "metadata": {},
   "outputs": [],
   "source": [
    "B=np.stack((a,b,c,reflection(a,b)))"
   ]
  },
  {
   "cell_type": "code",
   "execution_count": 21,
   "id": "6071d652",
   "metadata": {
    "scrolled": true
   },
   "outputs": [
    {
     "data": {
      "text/plain": [
       "<matplotlib.collections.PathCollection at 0x7fcd02d44690>"
      ]
     },
     "execution_count": 21,
     "metadata": {},
     "output_type": "execute_result"
    },
    {
     "data": {
      "image/png": "[encoded data removed]",
      "text/plain": [
       "<Figure size 432x288 with 1 Axes>"
      ]
     },
     "metadata": {
      "needs_background": "light"
     },
     "output_type": "display_data"
    }
   ],
   "source": [
    "plt.scatter(B[:,0],B[:,1])"
   ]
  },
  {
   "cell_type": "code",
   "execution_count": 28,
   "id": "e944d44b",
   "metadata": {},
   "outputs": [],
   "source": [
    "import random\n",
    "def update(A):\n",
    "    print(np.random.choice(range(0,3),2))\n",
    "    "
   ]
  },
  {
   "cell_type": "code",
   "execution_count": 29,
   "id": "68150d1c",
   "metadata": {},
   "outputs": [
    {
     "name": "stdout",
     "output_type": "stream",
     "text": [
      "[2 1]\n"
     ]
    }
   ],
   "source": [
    "update(A)"
   ]
  }
 ],
 "metadata": {
  "kernelspec": {
   "display_name": "Python 3",
   "language": "python",
   "name": "python3"
  },
  "language_info": {
   "codemirror_mode": {
    "name": "ipython",
    "version": 3
   },
   "file_extension": ".py",
   "mimetype": "text/x-python",
   "name": "python",
   "nbconvert_exporter": "python",
   "pygments_lexer": "ipython3",
   "version": "3.7.10"
  }
 },
 "nbformat": 4,
 "nbformat_minor": 5
}
